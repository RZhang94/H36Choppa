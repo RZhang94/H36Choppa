{
  "nbformat": 4,
  "nbformat_minor": 0,
  "metadata": {
    "accelerator": "GPU",
    "colab": {
      "name": "Aligner.ipynb",
      "provenance": [],
      "collapsed_sections": [],
      "include_colab_link": true
    },
    "kernelspec": {
      "display_name": "Python 3",
      "name": "python3"
    },
    "language_info": {
      "name": "python"
    }
  },
  "cells": [
    {
      "cell_type": "markdown",
      "metadata": {
        "id": "view-in-github",
        "colab_type": "text"
      },
      "source": [
        "<a href=\"https://colab.research.google.com/github/RZhang94/H36Choppa/blob/main/Aligner.ipynb\" target=\"_parent\"><img src=\"https://colab.research.google.com/assets/colab-badge.svg\" alt=\"Open In Colab\"/></a>"
      ]
    },
    {
      "cell_type": "markdown",
      "metadata": {
        "id": "dT3biCesqyBk"
      },
      "source": [
        "%Input pose and shape vectors, output the ground truth (video), hmr output, transformer output."
      ]
    },
    {
      "cell_type": "code",
      "metadata": {
        "colab": {
          "base_uri": "https://localhost:8080/"
        },
        "id": "J7BtetEkqZSe",
        "outputId": "09dcb12a-b212-4790-b33c-76ec12e84e28"
      },
      "source": [
        "import os, sys\n",
        "from google.colab import drive\n",
        "drive.mount('/content/drive')\n",
        "nb_path = '/content/notebooks'\n",
        "os.symlink('/content/drive/My Drive/Colab Notebooks', nb_path)\n",
        "sys.path.insert(0,nb_path)"
      ],
      "execution_count": null,
      "outputs": [
        {
          "output_type": "stream",
          "name": "stdout",
          "text": [
            "Mounted at /content/drive\n"
          ]
        }
      ]
    },
    {
      "cell_type": "code",
      "metadata": {
        "id": "JX8JBnZIceSw",
        "colab": {
          "base_uri": "https://localhost:8080/"
        },
        "outputId": "8a0d59da-0c19-44f7-f23a-aab7d49e4559"
      },
      "source": [
        "%cd /content/drive/MyDrive/ECE 740 Data\n",
        "\n",
        "install = True\n",
        "\n",
        "if install:\n",
        "\n",
        "  !pip install --target=$nb_path jdc\n",
        "  !git clone https://github.com/russoale/hmr2.0.git\n",
        "  %cd /content/drive/MyDrive/ECE\\ 740\\ Data/HMR2\n",
        "  # %cd /content/drive/MyDrive/HME/hmr2.0-master/\n",
        "  !pip install -r requirements.txt\n",
        "  !mkdir -p logs/paired\n",
        "  !mkdir -p logs/unpaired   \n",
        "  !pip install trimesh\n",
        "\n"
      ],
      "execution_count": null,
      "outputs": [
        {
          "output_type": "stream",
          "name": "stdout",
          "text": [
            "/content/drive/.shortcut-targets-by-id/10pktlb3WSrMF4VYWKLD8klVdMz-xtIUW/ECE740Data\n",
            "Collecting jdc\n",
            "  Downloading jdc-0.0.9-py2.py3-none-any.whl (2.1 kB)\n",
            "Installing collected packages: jdc\n",
            "Successfully installed jdc-0.0.9\n",
            "\u001b[33mWARNING: Target directory /content/notebooks/jdc already exists. Specify --upgrade to force replacement.\u001b[0m\n",
            "\u001b[33mWARNING: Target directory /content/notebooks/jdc-0.0.9.dist-info already exists. Specify --upgrade to force replacement.\u001b[0m\n",
            "fatal: destination path 'hmr2.0' already exists and is not an empty directory.\n",
            "/content/drive/.shortcut-targets-by-id/10pktlb3WSrMF4VYWKLD8klVdMz-xtIUW/ECE740Data/HMR2\n",
            "\u001b[31mERROR: Could not open requirements file: [Errno 2] No such file or directory: 'requirements.txt'\u001b[0m\n",
            "Collecting trimesh\n",
            "  Downloading trimesh-3.9.35-py3-none-any.whl (639 kB)\n",
            "\u001b[K     |████████████████████████████████| 639 kB 8.2 MB/s \n",
            "\u001b[?25hRequirement already satisfied: setuptools in /usr/local/lib/python3.7/dist-packages (from trimesh) (57.4.0)\n",
            "Requirement already satisfied: numpy in /usr/local/lib/python3.7/dist-packages (from trimesh) (1.19.5)\n",
            "Installing collected packages: trimesh\n",
            "Successfully installed trimesh-3.9.35\n"
          ]
        }
      ]
    },
    {
      "cell_type": "code",
      "metadata": {
        "id": "u9NSKAUTSbVV",
        "colab": {
          "base_uri": "https://localhost:8080/"
        },
        "outputId": "39179656-e78c-4d40-da82-58bd5023878a"
      },
      "source": [
        "from google.colab import drive\n",
        "drive.mount('/content/drive')"
      ],
      "execution_count": null,
      "outputs": [
        {
          "output_type": "stream",
          "name": "stdout",
          "text": [
            "Drive already mounted at /content/drive; to attempt to forcibly remount, call drive.mount(\"/content/drive\", force_remount=True).\n"
          ]
        }
      ]
    },
    {
      "cell_type": "code",
      "metadata": {
        "colab": {
          "base_uri": "https://localhost:8080/"
        },
        "id": "zBozbmqgIBQp",
        "outputId": "19bf9aa3-5f8f-491a-e2ca-79182c83ae0e"
      },
      "source": [
        "%cd /content/drive/MyDrive/ECE 740 Data/HMR2/hmr2.0/src\n",
        "!pwd"
      ],
      "execution_count": null,
      "outputs": [
        {
          "output_type": "stream",
          "name": "stdout",
          "text": [
            "/content/drive/.shortcut-targets-by-id/10pktlb3WSrMF4VYWKLD8klVdMz-xtIUW/ECE740Data/HMR2/hmr2.0/src\n",
            "/content/drive/.shortcut-targets-by-id/10pktlb3WSrMF4VYWKLD8klVdMz-xtIUW/ECE740Data/HMR2/hmr2.0/src\n"
          ]
        }
      ]
    },
    {
      "cell_type": "code",
      "metadata": {
        "colab": {
          "base_uri": "https://localhost:8080/"
        },
        "id": "m5sUTkcNZ0Yi",
        "outputId": "e3dd847f-0e14-4be4-bcff-325772a17a68"
      },
      "source": [
        "# import dependencies\n",
        "\n",
        "import sys\n",
        "print(sys.executable, sys.version)\n",
        "\n",
        "import pdb\n",
        "import numpy as np\n",
        "import pandas as pd\n",
        "import matplotlib.pyplot as plt\n",
        "\n",
        "from os.path import join, abspath\n",
        "from os import mkdir\n",
        "from IPython.display import display, HTML\n",
        "from glob import glob\n",
        "# This import registers the 3D projection, but is otherwise unused.\n",
        "from mpl_toolkits.mplot3d import Axes3D  # noqa: F401 unused import\n",
        "\n",
        "%matplotlib inline\n",
        "\n",
        "# for local import \n",
        "sys.path.append(abspath('..'))\n",
        "\n",
        "from main.config import Config\n",
        "from main.model import Model\n",
        "from main.dataset import Dataset\n",
        "from main.smpl import Smpl\n",
        "from main.local import LocalConfig\n",
        "\n",
        "from visualise.vis_util import draw_2d_on_image, show_2d_pose, show_3d_pose, preprocess_image, resize_img"
      ],
      "execution_count": null,
      "outputs": [
        {
          "output_type": "stream",
          "name": "stdout",
          "text": [
            "/usr/bin/python3 3.7.12 (default, Sep 10 2021, 00:21:48) \n",
            "[GCC 7.5.0]\n"
          ]
        }
      ]
    },
    {
      "cell_type": "code",
      "metadata": {
        "id": "FCiixEmCuQRq"
      },
      "source": [
        "from __future__ import absolute_import\n",
        "from __future__ import division\n",
        "from __future__ import print_function\n",
        "\n",
        "import numpy as np\n",
        "\n",
        "\n",
        "def compute_similarity_transform(S1, S2):\n",
        "    '''\n",
        "    Computes a similarity transform (sR, t) that takes\n",
        "    a set of 3D points S1 (3 x N) closest to a set of 3D points S2,\n",
        "    where R is an 3x3 rotation matrix, t 3x1 translation, s scale.\n",
        "    i.e. solves the orthogonal Procrutes problem.\n",
        "    '''\n",
        "    transposed = False\n",
        "    if S1.shape[0] != 3 and S1.shape[0] != 2:\n",
        "        S1 = S1.T\n",
        "        S2 = S2.T\n",
        "        transposed = True\n",
        "    assert(S2.shape[1] == S1.shape[1])\n",
        "\n",
        "    # 1. Remove mean.\n",
        "    mu1 = S1.mean(axis=1, keepdims=True)\n",
        "    mu2 = S2.mean(axis=1, keepdims=True)\n",
        "    X1 = S1 - mu1\n",
        "    X2 = S2 - mu2\n",
        "\n",
        "    # 2. Compute variance of X1 used for scale.\n",
        "    var1 = np.sum(X1**2)\n",
        "\n",
        "    # 3. The outer product of X1 and X2.\n",
        "    K = X1.dot(X2.T)\n",
        "\n",
        "    # 4. Solution that Maximizes trace(R'K) is R=U*V', where U, V are\n",
        "    # singular vectors of K.\n",
        "    U, s, Vh = np.linalg.svd(K)\n",
        "    V = Vh.T\n",
        "    # Construct Z that fixes the orientation of R to get det(R)=1.\n",
        "    Z = np.eye(U.shape[0])\n",
        "    Z[-1, -1] *= np.sign(np.linalg.det(U.dot(V.T)))\n",
        "    # Construct R.\n",
        "    R = V.dot(Z.dot(U.T))\n",
        "\n",
        "    # 5. Recover scale.\n",
        "    scale = np.trace(R.dot(K)) / var1\n",
        "\n",
        "    # 6. Recover translation.\n",
        "    t = mu2 - scale*(R.dot(mu1))\n",
        "\n",
        "    # 7. Error:\n",
        "    S1_hat = scale*R.dot(S1) + t\n",
        "\n",
        "    if transposed:\n",
        "        S1_hat = S1_hat.T\n",
        "\n",
        "    return S1_hat\n",
        "\n",
        "\n",
        "def align_by_pelvis(joints, get_pelvis=False):\n",
        "    \"\"\"\n",
        "    Assumes joints is 14 x 3 in LSP order.\n",
        "    Then hips are: [3, 2]\n",
        "    Takes mid point of these points, then subtracts it.\n",
        "    \"\"\"\n",
        "    left_id = 3\n",
        "    right_id = 2\n",
        "\n",
        "    pelvis = (joints[left_id, :] + joints[right_id, :]) / 2.\n",
        "    if get_pelvis:\n",
        "        return joints - np.expand_dims(pelvis, axis=0), pelvis\n",
        "    else:\n",
        "        return joints - np.expand_dims(pelvis, axis=0)\n",
        "\n",
        "\n",
        "def compute_errors(gt3ds, preds):\n",
        "    \"\"\"\n",
        "    Gets MPJPE after pelvis alignment + MPJPE after Procrustes.\n",
        "    Evaluates on the 14 common joints.\n",
        "    Inputs:\n",
        "      - gt3ds: N x 14 x 3\n",
        "      - preds: N x 14 x 3\n",
        "    \"\"\"\n",
        "    errors, errors_pa = [], []\n",
        "    for i, (gt3d, pred) in enumerate(zip(gt3ds, preds)):\n",
        "        gt3d = gt3d.reshape(-1, 3)\n",
        "        # Root align.\n",
        "        gt3d = align_by_pelvis(gt3d)\n",
        "        pred3d = align_by_pelvis(pred)\n",
        "\n",
        "        joint_error = np.sqrt(np.sum((gt3d - pred3d)**2, axis=1))\n",
        "        errors.append(np.mean(joint_error))\n",
        "\n",
        "        # Get PA error.\n",
        "        pred3d_sym = compute_similarity_transform(pred3d, gt3d)\n",
        "        pa_error = np.sqrt(np.sum((gt3d - pred3d_sym)**2, axis=1))\n",
        "        errors_pa.append(np.mean(pa_error))\n",
        "\n",
        "    return errors, errors_pa"
      ],
      "execution_count": null,
      "outputs": []
    },
    {
      "cell_type": "code",
      "metadata": {
        "id": "cC4Ofo73tojM"
      },
      "source": [
        "import random\n",
        "import os\n",
        "import cv2 as cv\n"
      ],
      "execution_count": null,
      "outputs": []
    },
    {
      "cell_type": "code",
      "metadata": {
        "id": "MgNlcWSal6vL"
      },
      "source": [
        "def model_Print(data):\n",
        "  x = []\n",
        "  y = []\n",
        "  z = []\n",
        "  for a in range(0,16):\n",
        "    x.append(data[a,0])\n",
        "    y.append(data[a,1])\n",
        "    z.append(data[a,2])\n",
        "  minx = min(x)\n",
        "  maxx = max(x)\n",
        "  miny = min(y)\n",
        "  maxy = max(y)\n",
        "  minz = min(z)\n",
        "  maxz = max(z)\n",
        "  \n",
        "  xlen = maxx-minx \n",
        "  ylen = maxx-miny\n",
        "  zlen = maxz-minz\n",
        "  maxlen = max(xlen,ylen,zlen)*1.1\n",
        "\n",
        "  rleg = [0, 1, 2, 3]\n",
        "  lleg = [0,4,5,6]\n",
        "  body = [0,7,8,9,10]\n",
        "  larm = [8,11,12,13]\n",
        "  rarm= [8,14,15,16]\n",
        "\n",
        "  rlegx =[]\n",
        "  rlegy =[]\n",
        "  rlegz =[]\n",
        "  llegx = []\n",
        "  llegy = []\n",
        "  llegz =[]\n",
        "  bodyx = []\n",
        "  bodyy= []\n",
        "  bodyz =[]\n",
        "  larmx = []\n",
        "  larmy = []\n",
        "  larmz = []\n",
        "  rarmx = []\n",
        "  rarmy = []\n",
        "  rarmz = []\n",
        "  \n",
        "  def jointmap(x,y,z,index,data):\n",
        "    for a in index:\n",
        "      x.append(data[a,0])\n",
        "      y.append(data[a,1])\n",
        "      z.append(data[a,2])\n",
        "\n",
        "  jointmap(rlegx, rlegy, rlegz, rleg,data)\n",
        "  jointmap(llegx, llegy, llegz, lleg,data)\n",
        "  jointmap(bodyx, bodyy, bodyz, body,data)\n",
        "  jointmap(larmx,larmy,larmz, larm,data)\n",
        "  jointmap(rarmx, rarmy, rarmz, rarm,data)\n",
        "\n",
        "  f = plt.figure(figsize=(2, 2), dpi=150)\n",
        "  ax = plt.axes(projection='3d')\n",
        "  plt.xlim((maxx+minx-maxlen)/2, (maxx+minx+maxlen)/2)\n",
        "  plt.ylim((maxy+miny-maxlen)/2, (maxy+miny+maxlen)/2)\n",
        "  ax.set_zlim((maxz+minz-maxlen)/2, (maxz+minz+maxlen)/2)\n",
        "  ax.plot3D(rlegx,rlegy,rlegz, 'b')\n",
        "  ax.plot3D(llegx,llegy,llegz, 'r')\n",
        "  ax.plot3D(bodyx,bodyy,bodyz, 'g')\n",
        "  ax.plot3D(rarmx,rarmy,rarmz, 'b')\n",
        "  ax.plot3D(larmx,larmy,larmz, 'r')\n",
        "  plt.axis('off')\n",
        "  return ax"
      ],
      "execution_count": null,
      "outputs": []
    },
    {
      "cell_type": "code",
      "metadata": {
        "id": "_XDswUBOdfgC"
      },
      "source": [
        "def coco_Print(data):\n",
        "  x = []\n",
        "  y = []\n",
        "  z = []\n",
        "  for a in range(0,18):\n",
        "    x.append(data[a,0])\n",
        "    y.append(data[a,1])\n",
        "    z.append(data[a,2])\n",
        "  minx = min(x)\n",
        "  maxx = max(x)\n",
        "  miny = min(y)\n",
        "  maxy = max(y)\n",
        "  minz = min(z)\n",
        "  maxz = max(z)\n",
        "  \n",
        "  xlen = maxx-minx \n",
        "  ylen = maxx-miny\n",
        "  zlen = maxz-minz\n",
        "  maxlen = max(xlen,ylen,zlen)*1.1\n",
        "\n",
        "  rleg = [0, 1, 2]\n",
        "  lleg = [3,4,5]\n",
        "  body = [12,13]\n",
        "  larm = [9,10,11]\n",
        "  rarm= [6,7,8]\n",
        "  eye= [15,16]\n",
        "  ear = [17,18]\n",
        "\n",
        "  rlegx =[]\n",
        "  rlegy =[]\n",
        "  rlegz =[]\n",
        "  llegx = []\n",
        "  llegy = []\n",
        "  llegz =[]\n",
        "  bodyx = []\n",
        "  bodyy= []\n",
        "  bodyz =[]\n",
        "  larmx = []\n",
        "  larmy = []\n",
        "  larmz = []\n",
        "  rarmx = []\n",
        "  rarmy = []\n",
        "  rarmz = []\n",
        "  eyex = []\n",
        "  eyey = []\n",
        "  eyez = []\n",
        "  earx = []\n",
        "  eary = []\n",
        "  earz = []\n",
        "  \n",
        "  def jointmap(x,y,z,index,data):\n",
        "    for a in index:\n",
        "      x.append(data[a,0])\n",
        "      y.append(data[a,1])\n",
        "      z.append(data[a,2])\n",
        "\n",
        "  jointmap(rlegx, rlegy, rlegz, rleg,data)\n",
        "  jointmap(llegx, llegy, llegz, lleg,data)\n",
        "  jointmap(bodyx, bodyy, bodyz, body,data)\n",
        "  jointmap(larmx,larmy,larmz, larm,data)\n",
        "  jointmap(rarmx, rarmy, rarmz, rarm,data)\n",
        "  jointmap(eyex, eyey, eyez, eye,data)\n",
        "  jointmap(earx, eary, earz, ear,data)\n",
        "\n",
        "  f = plt.figure(figsize=(2, 2), dpi=150)\n",
        "  ax = plt.axes(projection='3d')\n",
        "  plt.xlim((maxx+minx-maxlen)/2, (maxx+minx+maxlen)/2)\n",
        "  plt.ylim((maxy+miny-maxlen)/2, (maxy+miny+maxlen)/2)\n",
        "  ax.set_zlim((maxz+minz-maxlen)/2, (maxz+minz+maxlen)/2)\n",
        "  ax.plot3D(rlegx,rlegy,rlegz, 'b')\n",
        "  ax.plot3D(llegx,llegy,llegz, 'r')\n",
        "  ax.plot3D(bodyx,bodyy,bodyz, 'g')\n",
        "  ax.plot3D(rarmx,rarmy,rarmz, 'b')\n",
        "  ax.plot3D(larmx,larmy,larmz, 'r')\n",
        "  ax.plot3D(earx, eary, earz, 'c')\n",
        "  ax.plot3D(eyex, eyey, eyez, 'm')\n",
        "  plt.axis('off')\n",
        "  return ax"
      ],
      "execution_count": null,
      "outputs": []
    },
    {
      "cell_type": "code",
      "metadata": {
        "id": "mOSuu3QbmyfK"
      },
      "source": [
        "def hmrmodel_Print(data):\n",
        "  x = []\n",
        "  y = []\n",
        "  z = []\n",
        "  for a in range(0,20):\n",
        "    x.append(data[a,0])\n",
        "    y.append(data[a,1])\n",
        "    z.append(data[a,2])\n",
        "  minx = min(x)\n",
        "  maxx = max(x)\n",
        "  miny = min(y)\n",
        "  maxy = max(y)\n",
        "  minz = min(z)\n",
        "  maxz = max(z)\n",
        "  \n",
        "  xlen = maxx-minx \n",
        "  ylen = maxx-miny\n",
        "  zlen = maxz-minz\n",
        "  maxlen = max(xlen,ylen,zlen)*1.1\n",
        "\n",
        "  rleg = [1, 2, 3, 10]\n",
        "  lleg = [6,5,4,11]\n",
        "  body = [14,15]\n",
        "  larm = [11,12,13]\n",
        "  rarm= [10,9,8]\n",
        "\n",
        "  rlegx =[]\n",
        "  rlegy =[]\n",
        "  rlegz =[]\n",
        "  llegx = []\n",
        "  llegy = []\n",
        "  llegz =[]\n",
        "  bodyx = []\n",
        "  bodyy= []\n",
        "  bodyz =[]\n",
        "  larmx = []\n",
        "  larmy = []\n",
        "  larmz = []\n",
        "  rarmx = []\n",
        "  rarmy = []\n",
        "  rarmz = []\n",
        "  \n",
        "  def jointmap(x,y,z,index,data):\n",
        "    for a in index:\n",
        "      x.append(data[a,0])\n",
        "      y.append(data[a,1])\n",
        "      z.append(data[a,2])\n",
        "\n",
        "  jointmap(rlegx, rlegy, rlegz, rleg,data)\n",
        "  jointmap(llegx, llegy, llegz, lleg,data)\n",
        "  jointmap(bodyx, bodyy, bodyz, body,data)\n",
        "  jointmap(larmx,larmy,larmz, larm,data)\n",
        "  jointmap(rarmx, rarmy, rarmz, rarm,data)\n",
        "\n",
        "  f = plt.figure(figsize=(2, 2), dpi=150)\n",
        "  ax = plt.axes(projection='3d')\n",
        "  plt.xlim((maxx+minx-maxlen)/2, (maxx+minx+maxlen)/2)\n",
        "  plt.ylim((maxy+miny-maxlen)/2, (maxy+miny+maxlen)/2)\n",
        "  ax.set_zlim((maxz+minz-maxlen)/2, (maxz+minz+maxlen)/2)\n",
        "  ax.plot3D(rlegx,rlegy,rlegz, 'b')\n",
        "  ax.plot3D(llegx,llegy,llegz, 'r')\n",
        "  ax.plot3D(bodyx,bodyy,bodyz, 'g')\n",
        "  ax.plot3D(rarmx,rarmy,rarmz, 'b')\n",
        "  ax.plot3D(larmx,larmy,larmz, 'r')\n",
        "  plt.axis('off')\n",
        "  return ax"
      ],
      "execution_count": null,
      "outputs": []
    },
    {
      "cell_type": "code",
      "metadata": {
        "id": "peKxd047rTyT"
      },
      "source": [
        "def corModel_Print(data):\n",
        "  x = []\n",
        "  y = []\n",
        "  z = []\n",
        "  for a in range(0,13):\n",
        "    x.append(data[a,0])\n",
        "    y.append(data[a,1])\n",
        "    z.append(data[a,2])\n",
        "  minx = min(x)\n",
        "  maxx = max(x)\n",
        "  miny = min(y)\n",
        "  maxy = max(y)\n",
        "  minz = min(z)\n",
        "  maxz = max(z)\n",
        "  \n",
        "  xlen = maxx-minx \n",
        "  ylen = maxx-miny\n",
        "  zlen = maxz-minz\n",
        "  maxlen = max(xlen,ylen,zlen)*1.1\n",
        "\n",
        "  rleg = [0,1,2]\n",
        "  lleg = [3,4,5]\n",
        "  body = [12,13]\n",
        "  larm = [9,10,11]\n",
        "  rarm= [6,7,8]\n",
        "\n",
        "\n",
        "  rlegx =[]\n",
        "  rlegy =[]\n",
        "  rlegz =[]\n",
        "  llegx = []\n",
        "  llegy = []\n",
        "  llegz =[]\n",
        "  bodyx = []\n",
        "  bodyy= []\n",
        "  bodyz =[]\n",
        "  larmx = []\n",
        "  larmy = []\n",
        "  larmz = []\n",
        "  rarmx = []\n",
        "  rarmy = []\n",
        "  rarmz = []\n",
        "\n",
        "  \n",
        "  def jointmap(x,y,z,index,data):\n",
        "    for a in index:\n",
        "      x.append(data[a,0])\n",
        "      y.append(data[a,1])\n",
        "      z.append(data[a,2])\n",
        "\n",
        "  jointmap(rlegx, rlegy, rlegz, rleg,data)\n",
        "  jointmap(llegx, llegy, llegz, lleg,data)\n",
        "  jointmap(bodyx, bodyy, bodyz, body,data)\n",
        "  jointmap(larmx,larmy,larmz, larm,data)\n",
        "  jointmap(rarmx, rarmy, rarmz, rarm,data)\n",
        "\n",
        "\n",
        "  f = plt.figure(figsize=(2, 2), dpi=150)\n",
        "  ax = plt.axes(projection='3d')\n",
        "  plt.xlim((maxx+minx-maxlen)/2, (maxx+minx+maxlen)/2)\n",
        "  plt.ylim((maxy+miny-maxlen)/2, (maxy+miny+maxlen)/2)\n",
        "  ax.set_zlim((maxz+minz-maxlen)/2, (maxz+minz+maxlen)/2)\n",
        "  ax.plot3D(rlegx,rlegy,rlegz, 'b')\n",
        "  ax.plot3D(llegx,llegy,llegz, 'r')\n",
        "  ax.plot3D(bodyx,bodyy,bodyz, 'g')\n",
        "  ax.plot3D(rarmx,rarmy,rarmz, 'b')\n",
        "  ax.plot3D(larmx,larmy,larmz, 'r')\n",
        "\n",
        "  plt.axis('off')\n",
        "  return ax"
      ],
      "execution_count": null,
      "outputs": []
    },
    {
      "cell_type": "code",
      "metadata": {
        "id": "Oag6AM7QoZFg"
      },
      "source": [
        "def hmrmap(data):\n",
        "  #Reduce 21 to 14 joints\n",
        "  joint = np.zeros((14,3))\n",
        "  total = [1,2,3,4,5,6,8,9,10,11,12,13,14,15]\n",
        "  count = 0\n",
        "  for i in total:\n",
        "    joint[count] = data[i]\n",
        "    count += 1\n",
        "  return joint\n",
        "\n",
        "def cocomap(data):\n",
        "  #Reduce 19 to 14 joints\n",
        "  joint = np.zeros((14,3))\n",
        "  total = [0,1,2,3,4,5,6,7,8,9,10,11,12,13]\n",
        "  count = 0\n",
        "  for i in total:\n",
        "    joint[count] = data[i]\n",
        "    count += 1\n",
        "  return joint\n",
        "\n",
        "def gtmap(data):\n",
        "  #Reduce 17 to 14 joints\n",
        "  joint = np.zeros((14,3))\n",
        "  total = [3,2,1,4,5,6, 16,15,14,11,12,13,9,10]\n",
        "  count = 0\n",
        "  for i in total:\n",
        "    joint[count] = data[i]\n",
        "    count += 1\n",
        "  return joint\n"
      ],
      "execution_count": null,
      "outputs": []
    },
    {
      "cell_type": "code",
      "metadata": {
        "colab": {
          "base_uri": "https://localhost:8080/",
          "height": 546
        },
        "id": "yQCEmvNV_2Qo",
        "outputId": "fce5e4ae-d1da-49d2-880a-ad38a993fe8b"
      },
      "source": [
        "#zzx sample produce\n",
        "import numpy as np\n",
        "target = '/content/drive/MyDrive/HME/Temporal-Transformer/vertices.S6.Sitting 1.58860488_resultsgt.npy'\n",
        "\n",
        "results = np.load(target, allow_pickle=True) #Example data\n",
        "kp_3di = results.item()['3d'][25]\n",
        "\n",
        "\n",
        "plots = []\n",
        "\n",
        "#Frame number, refer to frame\n",
        "# i = 15\n",
        "# kp_3di = results[i]\n",
        "plots.append(coco_Print(kp_3di))\n",
        "\n",
        "#Map hmrpred 21->14, h36mgt 17->14\n",
        "# kp_3di = cocomap(kp_3di)\n",
        "kp_3di = results.item()['gt_3d'][25]\n",
        "print('Reduced 14 point correspondance')\n",
        "plots.append(corModel_Print(kp_3di))"
      ],
      "execution_count": null,
      "outputs": [
        {
          "output_type": "stream",
          "name": "stdout",
          "text": [
            "Reduced 14 point correspondance\n"
          ]
        },
        {
          "output_type": "display_data",
          "data": {
            "image/png": "[encoded data removed]",
            "text/plain": [
              "<Figure size 300x300 with 1 Axes>"
            ]
          },
          "metadata": {
            "needs_background": "light"
          }
        },
        {
          "output_type": "display_data",
          "data": {
            "image/png": "[encoded data removed]",
            "text/plain": [
              "<Figure size 300x300 with 1 Axes>"
            ]
          },
          "metadata": {
            "needs_background": "light"
          }
        }
      ]
    },
    {
      "cell_type": "code",
      "metadata": {
        "id": "ydVjGgvnl8lI",
        "colab": {
          "base_uri": "https://localhost:8080/",
          "height": 546
        },
        "outputId": "bf438982-b185-427f-c598-e70bb7a85c12"
      },
      "source": [
        "#RZ- Mapping check\n",
        "import numpy as np\n",
        "target = '/content/drive/MyDrive/HME/H36M Data/Cropped Images/TestObjects/sample19.npy'\n",
        "\n",
        "results = np.load(target, allow_pickle=True) #Example data\n",
        "plots = []\n",
        "\n",
        "#Frame number, refer to frame\n",
        "i = 15\n",
        "kp_3di = results[i]\n",
        "plots.append(coco_Print(kp_3di))\n",
        "\n",
        "#Map hmrpred 21->14, h36mgt 17->14\n",
        "kp_3di = cocomap(kp_3di)\n",
        "print('Reduced 14 point correspondance')\n",
        "plots.append(corModel_Print(kp_3di))\n"
      ],
      "execution_count": null,
      "outputs": [
        {
          "output_type": "stream",
          "name": "stdout",
          "text": [
            "Reduced 14 point correspondance\n"
          ]
        },
        {
          "output_type": "display_data",
          "data": {
            "image/png": "[encoded data removed]",
            "text/plain": [
              "<Figure size 300x300 with 1 Axes>"
            ]
          },
          "metadata": {
            "needs_background": "light"
          }
        },
        {
          "output_type": "display_data",
          "data": {
            "image/png": "[encoded data removed]",
            "text/plain": [
              "<Figure size 300x300 with 1 Axes>"
            ]
          },
          "metadata": {
            "needs_background": "light"
          }
        }
      ]
    },
    {
      "cell_type": "code",
      "metadata": {
        "id": "32yjC0sZZMk-",
        "colab": {
          "base_uri": "https://localhost:8080/",
          "height": 1000
        },
        "outputId": "296cc4f8-4c5f-4e93-a721-81be77f61392"
      },
      "source": [
        "#RZ- Input output and gt location\n",
        "# target = '/content/drive/MyDrive/HME/H36M Data/Cropped Images/HMR Outputs/Structure 2_gt/S1/Directions 1.54138969_resultsgt.npy'\n",
        "target = '/content/drive/MyDrive/HME/H36M Data/Cropped Images/HMR Outputs/Structure 2_gt/S8/Phoning.55011271_resultsgt.npy'\n",
        "\n",
        "\n",
        "results = np.load(target, allow_pickle=True) #Example data\n",
        "\n",
        "#Pull the gt data for all frames\n",
        "gt3d = results[6]\n",
        "#Pull the predicted data for all frames\n",
        "kp_3d = results[2]\n",
        "\n",
        "plots = []\n",
        "\n",
        "#Frame number, refer to frame\n",
        "i = 34\n",
        "kp_3di = kp_3d[i]\n",
        "gt3di = gt3d[i]\n",
        "print('Original data points')\n",
        "plots.append(hmrmodel_Print(kp_3di))\n",
        "plots.append(model_Print(gt3d[i]))\n",
        "#Map hmrpred 21->14, h36mgt 17->14\n",
        "kp_3di = hmrmap(kp_3di)\n",
        "gti = gtmap(gt3di)\n",
        "print('Reduced 14 point correspondance')\n",
        "plots.append(corModel_Print(kp_3di))\n",
        "plots.append(corModel_Print(gti))"
      ],
      "execution_count": null,
      "outputs": [
        {
          "output_type": "stream",
          "name": "stdout",
          "text": [
            "Original data points\n",
            "Reduced 14 point correspondance\n"
          ]
        },
        {
          "output_type": "display_data",
          "data": {
            "image/png": "[encoded data removed]",
            "text/plain": [
              "<Figure size 300x300 with 1 Axes>"
            ]
          },
          "metadata": {
            "needs_background": "light"
          }
        },
        {
          "output_type": "display_data",
          "data": {
            "image/png": "[encoded data removed]",
            "text/plain": [
              "<Figure size 300x300 with 1 Axes>"
            ]
          },
          "metadata": {
            "needs_background": "light"
          }
        },
        {
          "output_type": "display_data",
          "data": {
            "image/png": "[encoded data removed]",
            "text/plain": [
              "<Figure size 300x300 with 1 Axes>"
            ]
          },
          "metadata": {
            "needs_background": "light"
          }
        },
        {
          "output_type": "display_data",
          "data": {
            "image/png": "[encoded data removed]",
            "text/plain": [
              "<Figure size 300x300 with 1 Axes>"
            ]
          },
          "metadata": {
            "needs_background": "light"
          }
        }
      ]
    }
  ]
}